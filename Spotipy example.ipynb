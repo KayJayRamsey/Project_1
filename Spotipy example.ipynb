{
 "cells": [
  {
   "cell_type": "code",
   "execution_count": 28,
   "metadata": {},
   "outputs": [],
   "source": [
    "import spotipy\n",
    "from spotipy.oauth2 import SpotifyClientCredentials"
   ]
  },
  {
   "cell_type": "code",
   "execution_count": 29,
   "metadata": {},
   "outputs": [],
   "source": [
    "client_credentials_manager = SpotifyClientCredentials()\n",
    "sp = spotipy.Spotify(client_credentials_manager=client_credentials_manager)"
   ]
  },
  {
   "cell_type": "code",
   "execution_count": 48,
   "metadata": {},
   "outputs": [],
   "source": [
    "song= sp.audio_features(\"06AKEBrKUckW0KREUWRnvT\")"
   ]
  },
  {
   "cell_type": "code",
   "execution_count": 54,
   "metadata": {},
   "outputs": [
    {
     "name": "stdout",
     "output_type": "stream",
     "text": [
      "[{'acousticness': 0.514,\n",
      "  'analysis_url': 'https://api.spotify.com/v1/audio-analysis/06AKEBrKUckW0KREUWRnvT',\n",
      "  'danceability': 0.735,\n",
      "  'duration_ms': 255349,\n",
      "  'energy': 0.578,\n",
      "  'id': '06AKEBrKUckW0KREUWRnvT',\n",
      "  'instrumentalness': 0.0902,\n",
      "  'key': 5,\n",
      "  'liveness': 0.159,\n",
      "  'loudness': -11.84,\n",
      "  'mode': 0,\n",
      "  'speechiness': 0.0461,\n",
      "  'tempo': 98.002,\n",
      "  'time_signature': 4,\n",
      "  'track_href': 'https://api.spotify.com/v1/tracks/06AKEBrKUckW0KREUWRnvT',\n",
      "  'type': 'audio_features',\n",
      "  'uri': 'spotify:track:06AKEBrKUckW0KREUWRnvT',\n",
      "  'valence': 0.636}]\n"
     ]
    }
   ],
   "source": [
    "pprint(song)"
   ]
  },
  {
   "cell_type": "code",
   "execution_count": 53,
   "metadata": {},
   "outputs": [
    {
     "name": "stdout",
     "output_type": "stream",
     "text": [
      "'on'\n"
     ]
    }
   ],
   "source": []
  },
  {
   "cell_type": "code",
   "execution_count": null,
   "metadata": {},
   "outputs": [],
   "source": []
  }
 ],
 "metadata": {
  "kernelspec": {
   "display_name": "Python [conda env:PythonData]",
   "language": "python",
   "name": "conda-env-PythonData-py"
  },
  "language_info": {
   "codemirror_mode": {
    "name": "ipython",
    "version": 3
   },
   "file_extension": ".py",
   "mimetype": "text/x-python",
   "name": "python",
   "nbconvert_exporter": "python",
   "pygments_lexer": "ipython3",
   "version": "3.7.1"
  }
 },
 "nbformat": 4,
 "nbformat_minor": 2
}
